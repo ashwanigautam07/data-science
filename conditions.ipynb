{
 "cells": [
  {
   "cell_type": "code",
   "execution_count": 1,
   "id": "fbf29b7a",
   "metadata": {},
   "outputs": [
    {
     "name": "stdout",
     "output_type": "stream",
     "text": [
      "A\n",
      "B\n",
      "fail\n"
     ]
    }
   ],
   "source": [
    "marks = 85\n",
    "if marks >=90:\n",
    "    print(\"A+\")\n",
    "if marks >= 80:\n",
    "     print(\"A\")\n",
    "if marks >=70:\n",
    "     print(\"B\")\n",
    "if marks >=60:\n",
    "     print(\"fail\")"
   ]
  },
  {
   "cell_type": "code",
   "execution_count": 3,
   "id": "318320be",
   "metadata": {},
   "outputs": [
    {
     "name": "stdout",
     "output_type": "stream",
     "text": [
      "A\n"
     ]
    }
   ],
   "source": [
    "marks = 85\n",
    "if marks >=90:\n",
    "    print(\"A+\")\n",
    "elif marks >= 80:\n",
    "     print(\"A\")\n",
    "elif marks >=70:\n",
    "     print(\"B\")\n",
    "elif marks >=60:\n",
    "     print(\"fail\")\n",
    "else :\n",
    "     print(\"invalid marks\")"
   ]
  },
  {
   "cell_type": "code",
   "execution_count": 2,
   "id": "6c6f67d7",
   "metadata": {},
   "outputs": [
    {
     "name": "stdout",
     "output_type": "stream",
     "text": [
      "your are eligible to vote\n"
     ]
    }
   ],
   "source": [
    "age = int(input(\"enter your age\"))\n",
    "if age>=18:\n",
    "    print(\"your are eligible to vote\")\n",
    "else:\n",
    "    print(\"not eligible to vote\")\n"
   ]
  },
  {
   "cell_type": "code",
   "execution_count": 4,
   "id": "1f414654",
   "metadata": {},
   "outputs": [
    {
     "name": "stdout",
     "output_type": "stream",
     "text": [
      "the triangle is neither equilateral nor isosceles.\n"
     ]
    }
   ],
   "source": [
    "# check whether the two side of a triangle are equal or not\n",
    "a = int(input(\"enter the first side of the triangle: \"))\n",
    "b = int(input(\"enter the first side of the triangle: \"))\n",
    "c = int(input(\"enter the third side of a triangle: \"))\n",
    "if a == b and b == c:\n",
    "    print(\"the triangle is equilateral. \")\n",
    "elif a ==b or b == c or a == c:\n",
    "    print(\"the triangle is isosceles. \")\n",
    "else:\n",
    "    print(\"the triangle is neither equilateral nor isosceles.\")\n",
    "    "
   ]
  },
  {
   "cell_type": "code",
   "execution_count": null,
   "id": "6662d999",
   "metadata": {},
   "outputs": [
    {
     "name": "stdout",
     "output_type": "stream",
     "text": [
      "The number is even.\n"
     ]
    }
   ],
   "source": [
    "# check whether a number is an even number or odd number\n",
    "num = int(input(\"Enter a number: \"))\n",
    "if num % 2 == 0:\n",
    "    print(\"The number is even.\")\n",
    "else:\n",
    "    print(\"The number is odd.\")"
   ]
  },
  {
   "cell_type": "code",
   "execution_count": 9,
   "id": "e31ddbb0",
   "metadata": {},
   "outputs": [
    {
     "name": "stdout",
     "output_type": "stream",
     "text": [
      "The character is not a vowel.\n"
     ]
    }
   ],
   "source": [
    "# check whether a character is a vowel or not\n",
    "char = input(\"Enter a character: \"). lower ()\n",
    "if char in 'aeiou':\n",
    "    print(\"The character is a vowel.\")\n",
    "else:\n",
    "    print (\"The character is not a vowel.\")"
   ]
  },
  {
   "cell_type": "code",
   "execution_count": 14,
   "id": "eee3ba85",
   "metadata": {},
   "outputs": [
    {
     "name": "stdout",
     "output_type": "stream",
     "text": [
      "Gross Salary: 57500.0\n"
     ]
    }
   ],
   "source": [
    "#calculate the gross salary of an employee where basic salary is 50000,TDA id 10% of basic salary and HRA is 5% of basic salary\n",
    "basic_salary = 50000\n",
    "TDA = 0.10 * basic_salary\n",
    "HRA = 0.05 * basic_salary \n",
    "gross_salary = basic_salary + TDA + HRA\n",
    "print (\"Gross Salary:\",gross_salary)"
   ]
  },
  {
   "cell_type": "code",
   "execution_count": 21,
   "id": "2f633df3",
   "metadata": {},
   "outputs": [
    {
     "name": "stdout",
     "output_type": "stream",
     "text": [
      "resistration successfully done🎉\n"
     ]
    }
   ],
   "source": [
    "username = input(\"enter a username\")\n",
    "email = input(\"enter your email\")\n",
    "password = input(\"enter your password\")\n",
    "cpass = input(\"enter your password\")\n",
    "if len(username)>5 and len(username)<=20:\n",
    "    if 'a' in email and len (email)>10:\n",
    "        if len(password)>=10 and password!=username:\n",
    "            if password == cpass:\n",
    "                print(\"resistration successfully done🎉\")\n",
    "            else:\n",
    "                print(\"password does not match🥲\")\n",
    "        else:\n",
    "            print(\"incrrect password😩\")\n",
    "    else:\n",
    "        print(\"invalid email🤦‍♂️\")\n",
    "else:\n",
    "    print('invalid username😩😩😩😩')"
   ]
  },
  {
   "cell_type": "code",
   "execution_count": 27,
   "id": "4db8c4fd",
   "metadata": {},
   "outputs": [
    {
     "name": "stdout",
     "output_type": "stream",
     "text": [
      "4 is not a prime number.\n"
     ]
    }
   ],
   "source": [
    "# check whether a number is prime or not \n",
    "num = int(input(\"enter a number; \"))\n",
    "if num > 1:\n",
    "    for i in range (2, num):\n",
    "        if num%i==0 :\n",
    "            print(num, 'is not a prime number.')\n",
    "            break\n",
    "else:\n",
    "    print(num, 'is a prime number.')      "
   ]
  },
  {
   "cell_type": "code",
   "execution_count": null,
   "id": "ad398634",
   "metadata": {},
   "outputs": [],
   "source": []
  }
 ],
 "metadata": {
  "kernelspec": {
   "display_name": "base",
   "language": "python",
   "name": "python3"
  },
  "language_info": {
   "codemirror_mode": {
    "name": "ipython",
    "version": 3
   },
   "file_extension": ".py",
   "mimetype": "text/x-python",
   "name": "python",
   "nbconvert_exporter": "python",
   "pygments_lexer": "ipython3",
   "version": "3.13.2"
  }
 },
 "nbformat": 4,
 "nbformat_minor": 5
}
