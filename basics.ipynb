{
 "cells": [
  {
   "cell_type": "markdown",
   "id": "2c20e1f4",
   "metadata": {},
   "source": [
    "- point1\n",
    "    - subpoint1\n",
    "    -\n",
    "- point2\n",
    "- point3"
   ]
  },
  {
   "cell_type": "markdown",
   "id": "500d4373",
   "metadata": {},
   "source": [
    "### heading"
   ]
  },
  {
   "cell_type": "markdown",
   "id": "a088e3ff",
   "metadata": {},
   "source": [
    "# heading"
   ]
  },
  {
   "cell_type": "markdown",
   "id": "5016e61f",
   "metadata": {},
   "source": [
    "heading"
   ]
  },
  {
   "cell_type": "code",
   "execution_count": 1,
   "id": "d1a4f611",
   "metadata": {},
   "outputs": [
    {
     "name": "stdout",
     "output_type": "stream",
     "text": [
      "10\n"
     ]
    }
   ],
   "source": [
    "a = 10\n",
    "print(a)\n"
   ]
  }
 ],
 "metadata": {
  "kernelspec": {
   "display_name": "base",
   "language": "python",
   "name": "python3"
  },
  "language_info": {
   "codemirror_mode": {
    "name": "ipython",
    "version": 3
   },
   "file_extension": ".py",
   "mimetype": "text/x-python",
   "name": "python",
   "nbconvert_exporter": "python",
   "pygments_lexer": "ipython3",
   "version": "3.13.2"
  }
 },
 "nbformat": 4,
 "nbformat_minor": 5
}
